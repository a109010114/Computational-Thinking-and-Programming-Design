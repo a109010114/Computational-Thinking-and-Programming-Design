{
  "nbformat": 4,
  "nbformat_minor": 0,
  "metadata": {
    "colab": {
      "name": "鍾秉哲-week12.ipynb",
      "provenance": [],
      "collapsed_sections": [],
      "authorship_tag": "ABX9TyP/cK2m8EYSmQwydy9zJd3e",
      "include_colab_link": true
    },
    "kernelspec": {
      "name": "python3",
      "display_name": "Python 3"
    },
    "language_info": {
      "name": "python"
    }
  },
  "cells": [
    {
      "cell_type": "markdown",
      "metadata": {
        "id": "view-in-github",
        "colab_type": "text"
      },
      "source": [
        "<a href=\"https://colab.research.google.com/github/a109010114/Computational-Thinking-and-Programming-Design/blob/Computational-Thinking-and-Programming-Design/%E9%8D%BE%E7%A7%89%E5%93%B2_week12.ipynb\" target=\"_parent\"><img src=\"https://colab.research.google.com/assets/colab-badge.svg\" alt=\"Open In Colab\"/></a>"
      ]
    },
    {
      "cell_type": "code",
      "metadata": {
        "colab": {
          "base_uri": "https://localhost:8080/",
          "height": 131
        },
        "id": "ZN6xq2EGp1cK",
        "outputId": "f35d9d6c-35a7-4a9f-9508-968101bdabd8"
      },
      "source": [
        "In [1]: ## raining為True，會執行if程式區碼。\n",
        "...: raining = True\n",
        "...: if raining:\n",
        "...: print ('外面濕濕的')\n",
        "...: print(\"穿雨鞋\")\n",
        "...: print(\"帶雨傘\")\n",
        "...:\n",
        "外面濕濕的\n",
        "穿雨鞋\n",
        "帶雨傘\n",
        "In [2]: ## 把raining改為False，什麼都不會顯示。\n",
        "...: raining = False\n",
        "...: if raining:\n",
        "...: print(\"外面濕濕的\")\n",
        "...: print(\"穿雨鞋\")\n",
        "...: print(\"帶雨傘\")\n",
        "In [3]: ## 數字資料 （一）\n",
        "...: num = int(input(\"請輸入一個數字: \"))\n",
        "...: if num > 0:\n",
        "...: print(\"數字為正數\")\n",
        "...: print(\"比較完畢\")\n",
        "...: # 輸入5, 10, -3看結果\n",
        "In [5]: num = int(input(\"輸入一個數字： \"))\n",
        "...:\n",
        "...: if num > 0:\n",
        "...: print(\"是正數\")\n",
        "...: if num < 0:\n",
        "...: print(\"是負數\")\n",
        "...: if num == 0:\n",
        "...: print(\"數字是0\")\n",
        "...: print(\"比較完畢！\")\n",
        "In [6]: ## 巢狀條件式\n",
        "...: num_a = int(input(\"輸入第一個數字？ \"))\n",
        "...: num_b = int(input(\"輸入第二個數字？ \"))\n",
        "...:\n",
        "...: if num_a < 0:\n",
        "...: print(\"第一個是負數\")\n",
        "...: if num_b < 0:\n",
        "...: print(\"第二個也是負數\")\n",
        "...: print(\"比較完成\")\n",
        "In [7]: ## 非巢狀結構\n",
        "...: num_a = int(input(\"輸入第一個數字？ \"))\n",
        "...: num_b = int(input(\"輸入第二個數字？ \"))\n",
        "...:\n",
        "...: if num_a < 0:\n",
        "...: print(\"第一個是負數\")\n",
        "...: if num_b < 0:\n",
        "...: print(\"第二個是負數\")\n",
        "...: print(\"比較完成\")\n",
        "In [10]: ## 今晚吃義大利麵嗎？\n",
        "...: noodle = input(\"有麵嗎？ YES or NO: \")\n",
        "...: sauce = input(\"有醬料嗎？ YES or NO: \")\n",
        "...:\n",
        "...: ## 方法（一）\n",
        "...: if noodle==\"YES\" and sauce==\"YES\": # 真值表結果\n",
        "...: print(\"今天晚上吃義大利麵\")\n",
        "In [11]: ## 方法（二）\n",
        "...: if noodle == \"YES\":\n",
        "...: if sauce == \"YES\":\n",
        "...: print(\"今天晚上吃義大利麵\")\n",
        "In [1]: day = input(\"輸入星期幾: \")\n",
        "...: if day == \"星期六\" or day == \"星期天\":\n",
        "...: alarm = \"OFF\"\n",
        "...: print(\"週末，可睡晚一點！\")\n",
        "...: else:\n",
        "...: alarm = \"ON\"\n",
        "...: print(\"起床，準備去上學\")\n",
        "In [1]: score = int(input('請輸入一個成績？'))\n",
        "...: if score >= 60:\n",
        "...: print('有及格ㄡ～')\n",
        "...: else:\n",
        "...: print('不及格ㄟ！')\n",
        "[1]: a = int(input('請輸入三角形邊長a長度為？'))\n",
        "...: b = int(input('請輸入三角形邊長b長度為？'))\n",
        "...: c = int(input('請輸入三角形邊長c長度為？'))\n",
        "...:\n",
        "...: if (a < b + c)and(b < a + c)and( c < a + b): #任兩邊相加是否大於第三邊\n",
        "...: print('可構成三角形')\n",
        "...: else:\n",
        "...: print('無法構成三角形')\n"
      ],
      "execution_count": 6,
      "outputs": [
        {
          "output_type": "error",
          "ename": "IndentationError",
          "evalue": "ignored",
          "traceback": [
            "\u001b[0;36m  File \u001b[0;32m\"<ipython-input-6-e9e3b5e215f5>\"\u001b[0;36m, line \u001b[0;32m4\u001b[0m\n\u001b[0;31m    print ('外面濕濕的')\u001b[0m\n\u001b[0m        ^\u001b[0m\n\u001b[0;31mIndentationError\u001b[0m\u001b[0;31m:\u001b[0m expected an indented block\n"
          ]
        }
      ]
    }
  ]
}