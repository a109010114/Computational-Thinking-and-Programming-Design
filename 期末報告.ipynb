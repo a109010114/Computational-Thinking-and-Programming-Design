{
  "nbformat": 4,
  "nbformat_minor": 0,
  "metadata": {
    "colab": {
      "name": "期末報告.ipynb",
      "provenance": [],
      "authorship_tag": "ABX9TyOCad4f8yZ1+jO6csBSH55m",
      "include_colab_link": true
    },
    "kernelspec": {
      "name": "python3",
      "display_name": "Python 3"
    },
    "language_info": {
      "name": "python"
    }
  },
  "cells": [
    {
      "cell_type": "markdown",
      "metadata": {
        "id": "view-in-github",
        "colab_type": "text"
      },
      "source": [
        "<a href=\"https://colab.research.google.com/github/a109010114/Computational-Thinking-and-Programming-Design/blob/Computational-Thinking-and-Programming-Design/%E6%9C%9F%E6%9C%AB%E5%A0%B1%E5%91%8A.ipynb\" target=\"_parent\"><img src=\"https://colab.research.google.com/assets/colab-badge.svg\" alt=\"Open In Colab\"/></a>"
      ]
    },
    {
      "cell_type": "code",
      "metadata": {
        "id": "NupdQYkqtNG9"
      },
      "source": [
        "print(\"哈囉!歡迎來到這裡，我是Shu，請問您叫什麼名字?\")\n",
        "name=(input('請輸入您的名字'))\n",
        "print(\"您好\",name,\"有什麼我可以幫你的嗎?\")\n",
        "print(\"請問今天哪些早餐店有開?\")\n",
        "today=input('今天星期幾?')\n",
        "if today==\"1\" or today==\"4\":\n",
        "  print('佳蒂和米樂有開')\n",
        "  print('佳蒂我推薦薯餅蛋捲、巧克力厚片、雞塊都很不錯，更特別的是有黑薏仁漿唷')\n",
        "  print('米樂我推薦薯餅蛋餅、抹茶厚片、泰式魚排蛋餅和韓式柚子茶都很讚!!')\n",
        "elif today==\"2\" or today==\"5\":\n",
        "  print('吉的堡和佳蒂有開')\n",
        "  print('吉的堡的義大利麵和花生醬豬排吐司超級好吃')\n",
        "  print('佳蒂我推薦薯餅蛋捲、巧克力厚片、雞塊都很不錯，更特別的是有黑薏仁漿唷')\n",
        "elif today==\"3\":\n",
        "  print('吉的堡和米樂有開')\n",
        "  print('吉的堡的義大利麵和花生醬豬排吐司超級好吃')\n",
        "  print('米樂我推薦薯餅蛋餅、抹茶厚片、泰式魚排蛋餅和韓式柚子茶都很讚!!')\n",
        "else:\n",
        "  print('都沒有營業')\n",
        "print(\"那你想要吃哪間呢?\")\n",
        "print('天呀!!聽起來都好好吃，好難決定喔')\n",
        "print('那我們猜拳決定吧!')\n",
        "my = int(input('請出拳剪刀[1]、石頭[2]、布[3]'))\n",
        "print(' 我出拳為', my)\n",
        " \n",
        "import random\n",
        "computer = random.randint(1,3)\n",
        "print(' 電腦出拳為', computer)\n",
        "if my ==1:\n",
        "  if computer == 1:\n",
        "     print('平手')\n",
        "  elif computer == 2:\n",
        "     print('電腦獲勝')\n",
        "  else:\n",
        "     print('玩家獲勝')\n",
        "elif my==2:\n",
        "  if computer==1:\n",
        "    print('玩家獲勝')\n",
        "  elif computer==2:   \n",
        "    print('平手')\n",
        "  else:\n",
        "    print('電腦獲勝') \n",
        "else:\n",
        "   if computer == 1:\n",
        "     print('電腦獲勝')\n",
        "   elif computer == 2:\n",
        "     print('玩家獲勝')\n",
        "   else:\n",
        "     print('平手')\n",
        " \n",
        "win=input('誰贏')\n",
        "today=input('今天星期幾?')\n",
        "if today==\"1\" or today==\"2\" or today==\"4\" or today==\"5\" and win==\"你\":\n",
        " print(\"吃佳蒂\")\n",
        " \n",
        "elif today==\"3\"and win==\"你\":\n",
        " print(\"吃吉的堡\")\n",
        " \n",
        "elif today==\"1\" or today==\"3\" or today==\"4\"and win==\"我\":\n",
        " print(\"吃米樂\")\n",
        " \n",
        "elif today==\"2\" or today==\"5\"and win==\"我\":\n",
        " print(\"吃吉的堡\")\n",
        " \n",
        "else:\n",
        " print(\"沒有營業\")\n",
        "shop=input(\"請輸入店家\")\n",
        "if shop==\"佳蒂\":\n",
        "  hash_brown_omelette=int(input('請輸入薯餅蛋捲數量?'))\n",
        "  chocolate_toast=int(input('請輸入巧克力厚片數量?'))\n",
        "  chicken_nuggets=int(input('請輸入雞塊數量?'))\n",
        "  black_beans=int(input('請輸入黑薏仁漿數量?'))\n",
        "  total=hash_brown_omelette*30+chocolate_toast*25+chicken_nuggets*30+black_beans*20\n",
        "  print('訂購總金額為',total) \n",
        " \n",
        "elif shop==\"吉的堡\":\n",
        "  spaghetti = (int(input('請輸入義大利麵數量?')))\n",
        "  toast = int(input('請輸入花生醬豬排吐司數量?'))\n",
        "  total = spaghetti*40 + toast*35\n",
        "  print('訂購總金額為',total)"
      ],
      "execution_count": null,
      "outputs": []
    }
  ]
}