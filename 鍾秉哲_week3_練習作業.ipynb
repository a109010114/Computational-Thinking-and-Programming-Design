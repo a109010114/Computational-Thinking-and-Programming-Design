{
  "nbformat": 4,
  "nbformat_minor": 0,
  "metadata": {
    "colab": {
      "name": "鍾秉哲-week3-練習作業.ipynb",
      "provenance": [],
      "authorship_tag": "ABX9TyPGnt31vNDCroFWWFW6HV2b",
      "include_colab_link": true
    },
    "kernelspec": {
      "name": "python3",
      "display_name": "Python 3"
    }
  },
  "cells": [
    {
      "cell_type": "markdown",
      "metadata": {
        "id": "view-in-github",
        "colab_type": "text"
      },
      "source": [
        "<a href=\"https://colab.research.google.com/github/a109010114/Computational-Thinking-and-Programming-Design/blob/Computational-Thinking-and-Programming-Design/%E9%8D%BE%E7%A7%89%E5%93%B2_week3_%E7%B7%B4%E7%BF%92%E4%BD%9C%E6%A5%AD.ipynb\" target=\"_parent\"><img src=\"https://colab.research.google.com/assets/colab-badge.svg\" alt=\"Open In Colab\"/></a>"
      ]
    },
    {
      "cell_type": "markdown",
      "metadata": {
        "id": "guhUzxt2NqVG"
      },
      "source": [
        "#隨堂練習\r\n",
        "\r\n"
      ]
    },
    {
      "cell_type": "code",
      "metadata": {
        "colab": {
          "base_uri": "https://localhost:8080/"
        },
        "id": "rPDHgfHYcpe_",
        "outputId": "92db3914-99f0-443d-86a5-1387a535cb06"
      },
      "source": [
        "print(200-22)"
      ],
      "execution_count": null,
      "outputs": [
        {
          "output_type": "stream",
          "text": [
            "178\n"
          ],
          "name": "stdout"
        }
      ]
    },
    {
      "cell_type": "code",
      "metadata": {
        "colab": {
          "base_uri": "https://localhost:8080/"
        },
        "id": "zGxpHHyKOCBQ",
        "outputId": "1d2687bb-87fc-4630-db12-78bc5b6b2362"
      },
      "source": [
        "print(55+32)"
      ],
      "execution_count": null,
      "outputs": [
        {
          "output_type": "stream",
          "text": [
            "87\n"
          ],
          "name": "stdout"
        }
      ]
    },
    {
      "cell_type": "markdown",
      "metadata": {
        "id": "rwOBhVdsOmkq"
      },
      "source": [
        "#課後練習"
      ]
    },
    {
      "cell_type": "markdown",
      "metadata": {
        "id": "tJEJ2aalQk07"
      },
      "source": [
        "######**從一則新聞報導，提出你對新聞系（OO系）學生為什麼要學「運算思維與程式設計」的見解。（告訴我新聞連結，以及你的觀點即可。）**"
      ]
    },
    {
      "cell_type": "markdown",
      "metadata": {
        "id": "LmX6lWOFNoVq"
      },
      "source": [
        "####**https://www.gvm.com.tw/article/77911\r\n",
        "\r\n",
        "#####**我認為新聞系並不需要學習運算思維與程式設計，但既然學校有開這門課，我認為學校大概是希望學生在未來更有競爭力。"
      ]
    }
  ]
}